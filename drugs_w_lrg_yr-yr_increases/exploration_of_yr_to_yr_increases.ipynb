{
 "cells": [
  {
   "cell_type": "code",
   "execution_count": 28,
   "metadata": {
    "collapsed": true
   },
   "outputs": [],
   "source": [
    "import numpy as np\n",
    "import pandas as pd\n",
    "import matplotlib.pyplot as plt\n",
    "from ipywidgets import FloatProgress\n",
    "from IPython.display import display\n",
    "%matplotlib inline"
   ]
  },
  {
   "cell_type": "markdown",
   "metadata": {},
   "source": [
    "We load the data, and take a quick look at it:"
   ]
  },
  {
   "cell_type": "code",
   "execution_count": 2,
   "metadata": {
    "collapsed": true
   },
   "outputs": [],
   "source": [
    "df = pd.read_csv(\"../part_b_spend_clean/output/part_b_spend_clean.csv\")"
   ]
  },
  {
   "cell_type": "code",
   "execution_count": 3,
   "metadata": {
    "collapsed": false
   },
   "outputs": [
    {
     "data": {
      "text/html": [
       "<div>\n",
       "<table border=\"1\" class=\"dataframe\">\n",
       "  <thead>\n",
       "    <tr style=\"text-align: right;\">\n",
       "      <th></th>\n",
       "      <th>hcpcs_code</th>\n",
       "      <th>hcpcs_description</th>\n",
       "      <th>year</th>\n",
       "      <th>claim_count</th>\n",
       "      <th>total_spending</th>\n",
       "      <th>beneficiary_count</th>\n",
       "      <th>total_annual_spending_per_user</th>\n",
       "      <th>unit_count</th>\n",
       "      <th>average_cost_per_unit</th>\n",
       "      <th>average_beneficiary_cost_share</th>\n",
       "      <th>annual_change_in_average_cost_per_unit</th>\n",
       "    </tr>\n",
       "  </thead>\n",
       "  <tbody>\n",
       "    <tr>\n",
       "      <th>0</th>\n",
       "      <td>90371</td>\n",
       "      <td>Hepatitis B immune globulin for injection into...</td>\n",
       "      <td>2011</td>\n",
       "      <td>955.0</td>\n",
       "      <td>263564.03</td>\n",
       "      <td>304.0</td>\n",
       "      <td>866.986941</td>\n",
       "      <td>2307.0</td>\n",
       "      <td>114.245353</td>\n",
       "      <td>177.307138</td>\n",
       "      <td>NaN</td>\n",
       "    </tr>\n",
       "    <tr>\n",
       "      <th>1</th>\n",
       "      <td>90371</td>\n",
       "      <td>Hepatitis B immune globulin for injection into...</td>\n",
       "      <td>2012</td>\n",
       "      <td>787.0</td>\n",
       "      <td>320152.62</td>\n",
       "      <td>237.0</td>\n",
       "      <td>1350.854937</td>\n",
       "      <td>2966.0</td>\n",
       "      <td>107.940870</td>\n",
       "      <td>274.978650</td>\n",
       "      <td>NaN</td>\n",
       "    </tr>\n",
       "    <tr>\n",
       "      <th>2</th>\n",
       "      <td>90371</td>\n",
       "      <td>Hepatitis B immune globulin for injection into...</td>\n",
       "      <td>2013</td>\n",
       "      <td>715.0</td>\n",
       "      <td>287163.62</td>\n",
       "      <td>235.0</td>\n",
       "      <td>1221.972851</td>\n",
       "      <td>2712.0</td>\n",
       "      <td>105.886291</td>\n",
       "      <td>251.021447</td>\n",
       "      <td>NaN</td>\n",
       "    </tr>\n",
       "    <tr>\n",
       "      <th>3</th>\n",
       "      <td>90371</td>\n",
       "      <td>Hepatitis B immune globulin for injection into...</td>\n",
       "      <td>2014</td>\n",
       "      <td>639.0</td>\n",
       "      <td>238523.66</td>\n",
       "      <td>196.0</td>\n",
       "      <td>1216.957449</td>\n",
       "      <td>2124.0</td>\n",
       "      <td>112.299275</td>\n",
       "      <td>250.995561</td>\n",
       "      <td>NaN</td>\n",
       "    </tr>\n",
       "    <tr>\n",
       "      <th>4</th>\n",
       "      <td>90371</td>\n",
       "      <td>Hepatitis B immune globulin for injection into...</td>\n",
       "      <td>2015</td>\n",
       "      <td>619.0</td>\n",
       "      <td>257560.26</td>\n",
       "      <td>192.0</td>\n",
       "      <td>1341.459687</td>\n",
       "      <td>2315.0</td>\n",
       "      <td>111.257132</td>\n",
       "      <td>281.880938</td>\n",
       "      <td>NaN</td>\n",
       "    </tr>\n",
       "    <tr>\n",
       "      <th>5</th>\n",
       "      <td>90375</td>\n",
       "      <td>Rabies immune globulin for injection beneath t...</td>\n",
       "      <td>2011</td>\n",
       "      <td>1934.0</td>\n",
       "      <td>1505927.92</td>\n",
       "      <td>1855.0</td>\n",
       "      <td>811.820981</td>\n",
       "      <td>8503.5</td>\n",
       "      <td>177.095069</td>\n",
       "      <td>162.938054</td>\n",
       "      <td>NaN</td>\n",
       "    </tr>\n",
       "    <tr>\n",
       "      <th>6</th>\n",
       "      <td>90375</td>\n",
       "      <td>Rabies immune globulin for injection beneath t...</td>\n",
       "      <td>2012</td>\n",
       "      <td>2147.0</td>\n",
       "      <td>2240645.31</td>\n",
       "      <td>2070.0</td>\n",
       "      <td>1082.437348</td>\n",
       "      <td>11543.5</td>\n",
       "      <td>194.104501</td>\n",
       "      <td>216.785527</td>\n",
       "      <td>NaN</td>\n",
       "    </tr>\n",
       "    <tr>\n",
       "      <th>7</th>\n",
       "      <td>90375</td>\n",
       "      <td>Rabies immune globulin for injection beneath t...</td>\n",
       "      <td>2013</td>\n",
       "      <td>2156.0</td>\n",
       "      <td>2704537.39</td>\n",
       "      <td>2080.0</td>\n",
       "      <td>1300.258361</td>\n",
       "      <td>12926.0</td>\n",
       "      <td>209.232353</td>\n",
       "      <td>263.882788</td>\n",
       "      <td>NaN</td>\n",
       "    </tr>\n",
       "    <tr>\n",
       "      <th>8</th>\n",
       "      <td>90375</td>\n",
       "      <td>Rabies immune globulin for injection beneath t...</td>\n",
       "      <td>2014</td>\n",
       "      <td>2311.0</td>\n",
       "      <td>3746515.01</td>\n",
       "      <td>2241.0</td>\n",
       "      <td>1671.805002</td>\n",
       "      <td>16284.0</td>\n",
       "      <td>230.073386</td>\n",
       "      <td>339.956662</td>\n",
       "      <td>NaN</td>\n",
       "    </tr>\n",
       "    <tr>\n",
       "      <th>9</th>\n",
       "      <td>90375</td>\n",
       "      <td>Rabies immune globulin for injection beneath t...</td>\n",
       "      <td>2015</td>\n",
       "      <td>2360.0</td>\n",
       "      <td>4511996.63</td>\n",
       "      <td>2288.0</td>\n",
       "      <td>1972.026499</td>\n",
       "      <td>18163.3</td>\n",
       "      <td>248.412823</td>\n",
       "      <td>400.534768</td>\n",
       "      <td>NaN</td>\n",
       "    </tr>\n",
       "  </tbody>\n",
       "</table>\n",
       "</div>"
      ],
      "text/plain": [
       "  hcpcs_code                                  hcpcs_description  year  \\\n",
       "0      90371  Hepatitis B immune globulin for injection into...  2011   \n",
       "1      90371  Hepatitis B immune globulin for injection into...  2012   \n",
       "2      90371  Hepatitis B immune globulin for injection into...  2013   \n",
       "3      90371  Hepatitis B immune globulin for injection into...  2014   \n",
       "4      90371  Hepatitis B immune globulin for injection into...  2015   \n",
       "5      90375  Rabies immune globulin for injection beneath t...  2011   \n",
       "6      90375  Rabies immune globulin for injection beneath t...  2012   \n",
       "7      90375  Rabies immune globulin for injection beneath t...  2013   \n",
       "8      90375  Rabies immune globulin for injection beneath t...  2014   \n",
       "9      90375  Rabies immune globulin for injection beneath t...  2015   \n",
       "\n",
       "   claim_count  total_spending  beneficiary_count  \\\n",
       "0        955.0       263564.03              304.0   \n",
       "1        787.0       320152.62              237.0   \n",
       "2        715.0       287163.62              235.0   \n",
       "3        639.0       238523.66              196.0   \n",
       "4        619.0       257560.26              192.0   \n",
       "5       1934.0      1505927.92             1855.0   \n",
       "6       2147.0      2240645.31             2070.0   \n",
       "7       2156.0      2704537.39             2080.0   \n",
       "8       2311.0      3746515.01             2241.0   \n",
       "9       2360.0      4511996.63             2288.0   \n",
       "\n",
       "   total_annual_spending_per_user  unit_count  average_cost_per_unit  \\\n",
       "0                      866.986941      2307.0             114.245353   \n",
       "1                     1350.854937      2966.0             107.940870   \n",
       "2                     1221.972851      2712.0             105.886291   \n",
       "3                     1216.957449      2124.0             112.299275   \n",
       "4                     1341.459687      2315.0             111.257132   \n",
       "5                      811.820981      8503.5             177.095069   \n",
       "6                     1082.437348     11543.5             194.104501   \n",
       "7                     1300.258361     12926.0             209.232353   \n",
       "8                     1671.805002     16284.0             230.073386   \n",
       "9                     1972.026499     18163.3             248.412823   \n",
       "\n",
       "   average_beneficiary_cost_share  annual_change_in_average_cost_per_unit  \n",
       "0                      177.307138                                     NaN  \n",
       "1                      274.978650                                     NaN  \n",
       "2                      251.021447                                     NaN  \n",
       "3                      250.995561                                     NaN  \n",
       "4                      281.880938                                     NaN  \n",
       "5                      162.938054                                     NaN  \n",
       "6                      216.785527                                     NaN  \n",
       "7                      263.882788                                     NaN  \n",
       "8                      339.956662                                     NaN  \n",
       "9                      400.534768                                     NaN  "
      ]
     },
     "execution_count": 3,
     "metadata": {},
     "output_type": "execute_result"
    }
   ],
   "source": [
    "df.head(10)"
   ]
  },
  {
   "cell_type": "markdown",
   "metadata": {},
   "source": [
    "Let's now form a set of drugs listed in the data; how many are there?"
   ]
  },
  {
   "cell_type": "code",
   "execution_count": 4,
   "metadata": {
    "collapsed": false
   },
   "outputs": [
    {
     "data": {
      "text/plain": [
       "638"
      ]
     },
     "execution_count": 4,
     "metadata": {},
     "output_type": "execute_result"
    }
   ],
   "source": [
    "drugs = set(df['hcpcs_code'])\n",
    "len(drugs)"
   ]
  },
  {
   "cell_type": "markdown",
   "metadata": {},
   "source": [
    "Let's take a quick look at plots of the average spending, renormalized relative to the initial cost:"
   ]
  },
  {
   "cell_type": "code",
   "execution_count": 5,
   "metadata": {
    "collapsed": false
   },
   "outputs": [
    {
     "data": {
      "image/png": "[encoded data removed]",
      "text/plain": [
       "<matplotlib.figure.Figure at 0x1127d0f60>"
      ]
     },
     "metadata": {},
     "output_type": "display_data"
    }
   ],
   "source": [
    "N = 20\n",
    "cm = plt.get_cmap('gist_rainbow')\n",
    "column = 'average_cost_per_unit'\n",
    "\n",
    "for i,drug in zip(range(N),drugs):\n",
    "    color = cm(1.*i/N) # color will now be an RGBA tuple\n",
    "    df_tmp = df[df['hcpcs_code']==drug]\n",
    "    initial_year = min(df_tmp['year'])\n",
    "    initial_value = df_tmp[df_tmp['year']==initial_year][column].iloc[0]\n",
    "    plt.plot(df_tmp['year'],df_tmp[column]/initial_value,color=color)"
   ]
  },
  {
   "cell_type": "markdown",
   "metadata": {},
   "source": [
    "Recall that the year-over-year change is the ratio of the annual difference to the previous year's value, where the annual difference is the difference between the current value and the previous year's value. In other words for a series $a_t$, we compute:\n",
    "$$\\frac{a_t-a_{t-1}}{a_{t-l}},$$\n",
    "where $t$ is the given year.\n",
    "\n",
    "Let's compute these for various columns:"
   ]
  },
  {
   "cell_type": "code",
   "execution_count": null,
   "metadata": {
    "collapsed": false
   },
   "outputs": [
    {
     "name": "stdout",
     "output_type": "stream",
     "text": [
      "Computing year-over-year increase for claim_count number 0 of 7\n"
     ]
    }
   ],
   "source": [
    "columns_of_interest = ['claim_count','total_spending','beneficiary_count',\n",
    "                       'total_annual_spending_per_user','unit_count',\n",
    "                       'average_cost_per_unit','average_beneficiary_cost_share']\n",
    "years = [2012,2013,2014,2015]\n",
    "f = FloatProgress(min=0, max=len(drugs))\n",
    "display(f)\n",
    "for i,column in enumerate(columns_of_interest):\n",
    "    print(\"Computing year-over-year increase for \"+column+\n",
    "          \" number %d of %d\"%(i,len(columns_of_interest)))\n",
    "    f.value=0\n",
    "    df[column+'_yr_ovr_yr']=np.nan\n",
    "    for drug in drugs:\n",
    "        f.value+=1\n",
    "        for year in years:\n",
    "            prev_year_val = df.loc[(df['hcpcs_code']==drug) & (df['year']==year-1),column].iloc[0]\n",
    "            cur_year_val = df.loc[(df['hcpcs_code']==drug) & (df['year']==year),column].iloc[0]\n",
    "            if np.isnan(prev_year_val) or np.isnan(cur_year_val): break\n",
    "            df.loc[(df['hcpcs_code']==drug) & (df['year']==year),column+'_yr_ovr_yr']=\\\n",
    "            (cur_year_val-prev_year_val)/prev_year_val"
   ]
  },
  {
   "cell_type": "code",
   "execution_count": 22,
   "metadata": {
    "collapsed": false
   },
   "outputs": [
    {
     "data": {
      "text/html": [
       "<div>\n",
       "<table border=\"1\" class=\"dataframe\">\n",
       "  <thead>\n",
       "    <tr style=\"text-align: right;\">\n",
       "      <th></th>\n",
       "      <th>hcpcs_code</th>\n",
       "      <th>hcpcs_description</th>\n",
       "      <th>year</th>\n",
       "      <th>claim_count</th>\n",
       "      <th>total_spending</th>\n",
       "      <th>beneficiary_count</th>\n",
       "      <th>total_annual_spending_per_user</th>\n",
       "      <th>unit_count</th>\n",
       "      <th>average_cost_per_unit</th>\n",
       "      <th>average_beneficiary_cost_share</th>\n",
       "      <th>annual_change_in_average_cost_per_unit</th>\n",
       "      <th>average_cost_per_unit_yr_ovr_yr</th>\n",
       "    </tr>\n",
       "  </thead>\n",
       "  <tbody>\n",
       "    <tr>\n",
       "      <th>560</th>\n",
       "      <td>J0694</td>\n",
       "      <td>Injection, cefoxitin sodium, 1 gm</td>\n",
       "      <td>2011</td>\n",
       "      <td>4595.0</td>\n",
       "      <td>54477.23</td>\n",
       "      <td>2460.0</td>\n",
       "      <td>22.145215</td>\n",
       "      <td>10088.0</td>\n",
       "      <td>5.400201</td>\n",
       "      <td>5.561634</td>\n",
       "      <td>NaN</td>\n",
       "      <td>NaN</td>\n",
       "    </tr>\n",
       "    <tr>\n",
       "      <th>561</th>\n",
       "      <td>J0694</td>\n",
       "      <td>Injection, cefoxitin sodium, 1 gm</td>\n",
       "      <td>2012</td>\n",
       "      <td>4252.0</td>\n",
       "      <td>48334.15</td>\n",
       "      <td>2616.0</td>\n",
       "      <td>18.476357</td>\n",
       "      <td>8147.0</td>\n",
       "      <td>5.932754</td>\n",
       "      <td>4.489041</td>\n",
       "      <td>NaN</td>\n",
       "      <td>0.098617</td>\n",
       "    </tr>\n",
       "    <tr>\n",
       "      <th>562</th>\n",
       "      <td>J0694</td>\n",
       "      <td>Injection, cefoxitin sodium, 1 gm</td>\n",
       "      <td>2013</td>\n",
       "      <td>4491.0</td>\n",
       "      <td>61086.38</td>\n",
       "      <td>2449.0</td>\n",
       "      <td>24.943397</td>\n",
       "      <td>11485.0</td>\n",
       "      <td>5.318797</td>\n",
       "      <td>5.759506</td>\n",
       "      <td>NaN</td>\n",
       "      <td>-0.103486</td>\n",
       "    </tr>\n",
       "    <tr>\n",
       "      <th>563</th>\n",
       "      <td>J0694</td>\n",
       "      <td>Injection, cefoxitin sodium, 1 gm</td>\n",
       "      <td>2014</td>\n",
       "      <td>4858.0</td>\n",
       "      <td>69839.40</td>\n",
       "      <td>2267.0</td>\n",
       "      <td>30.806970</td>\n",
       "      <td>13989.0</td>\n",
       "      <td>4.992451</td>\n",
       "      <td>6.834976</td>\n",
       "      <td>NaN</td>\n",
       "      <td>-0.061357</td>\n",
       "    </tr>\n",
       "    <tr>\n",
       "      <th>564</th>\n",
       "      <td>J0694</td>\n",
       "      <td>Injection, cefoxitin sodium, 1 gm</td>\n",
       "      <td>2015</td>\n",
       "      <td>5141.0</td>\n",
       "      <td>58789.28</td>\n",
       "      <td>2577.0</td>\n",
       "      <td>22.813069</td>\n",
       "      <td>12127.0</td>\n",
       "      <td>4.847801</td>\n",
       "      <td>5.441832</td>\n",
       "      <td>NaN</td>\n",
       "      <td>-0.028974</td>\n",
       "    </tr>\n",
       "  </tbody>\n",
       "</table>\n",
       "</div>"
      ],
      "text/plain": [
       "    hcpcs_code                  hcpcs_description  year  claim_count  \\\n",
       "560      J0694  Injection, cefoxitin sodium, 1 gm  2011       4595.0   \n",
       "561      J0694  Injection, cefoxitin sodium, 1 gm  2012       4252.0   \n",
       "562      J0694  Injection, cefoxitin sodium, 1 gm  2013       4491.0   \n",
       "563      J0694  Injection, cefoxitin sodium, 1 gm  2014       4858.0   \n",
       "564      J0694  Injection, cefoxitin sodium, 1 gm  2015       5141.0   \n",
       "\n",
       "     total_spending  beneficiary_count  total_annual_spending_per_user  \\\n",
       "560        54477.23             2460.0                       22.145215   \n",
       "561        48334.15             2616.0                       18.476357   \n",
       "562        61086.38             2449.0                       24.943397   \n",
       "563        69839.40             2267.0                       30.806970   \n",
       "564        58789.28             2577.0                       22.813069   \n",
       "\n",
       "     unit_count  average_cost_per_unit  average_beneficiary_cost_share  \\\n",
       "560     10088.0               5.400201                        5.561634   \n",
       "561      8147.0               5.932754                        4.489041   \n",
       "562     11485.0               5.318797                        5.759506   \n",
       "563     13989.0               4.992451                        6.834976   \n",
       "564     12127.0               4.847801                        5.441832   \n",
       "\n",
       "     annual_change_in_average_cost_per_unit  average_cost_per_unit_yr_ovr_yr  \n",
       "560                                     NaN                              NaN  \n",
       "561                                     NaN                         0.098617  \n",
       "562                                     NaN                        -0.103486  \n",
       "563                                     NaN                        -0.061357  \n",
       "564                                     NaN                        -0.028974  "
      ]
     },
     "execution_count": 22,
     "metadata": {},
     "output_type": "execute_result"
    }
   ],
   "source": [
    "df[df['hcpcs_code']==list(drugs)[1]]"
   ]
  },
  {
   "cell_type": "markdown",
   "metadata": {},
   "source": [
    "Let's take a quick look at plots of the year-over-year increase:"
   ]
  },
  {
   "cell_type": "code",
   "execution_count": 32,
   "metadata": {
    "collapsed": false
   },
   "outputs": [
    {
     "data": {
      "image/png": "[encoded data removed]",
      "text/plain": [
       "<matplotlib.figure.Figure at 0x104371e48>"
      ]
     },
     "metadata": {},
     "output_type": "display_data"
    }
   ],
   "source": [
    "N = 700\n",
    "cm = plt.get_cmap('gist_rainbow')\n",
    "column = 'average_cost_per_unit'\n",
    "\n",
    "for i,drug in zip(range(N),drugs):\n",
    "    color = cm(1.*i/N) # color will now be an RGBA tuple\n",
    "    df_tmp = df[df['hcpcs_code']==drug]\n",
    "    plt.plot(df_tmp['year'],df_tmp[column+'_yr_ovr_yr'],color=color)"
   ]
  },
  {
   "cell_type": "code",
   "execution_count": null,
   "metadata": {
    "collapsed": true
   },
   "outputs": [],
   "source": []
  }
 ],
 "metadata": {
  "kernelspec": {
   "display_name": "Python 3",
   "language": "python",
   "name": "python3"
  },
  "language_info": {
   "codemirror_mode": {
    "name": "ipython",
    "version": 3
   },
   "file_extension": ".py",
   "mimetype": "text/x-python",
   "name": "python",
   "nbconvert_exporter": "python",
   "pygments_lexer": "ipython3",
   "version": "3.5.1"
  }
 },
 "nbformat": 4,
 "nbformat_minor": 0
}
